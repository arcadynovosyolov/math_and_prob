{
 "cells": [
  {
   "cell_type": "markdown",
   "metadata": {},
   "source": [
    "# Computing probabilities of placings in a competition"
   ]
  },
  {
   "cell_type": "markdown",
   "metadata": {},
   "source": [
    "<p>Consider a competition with 3 participants, and assume we know the probabilities of winning for each partitipant, e.g. 50%, 30% and 20% for the participants 1, 2, and 3 respectively. This means that we expect that 50% of the time participant 1 would win the competition, 30% of the time participant 2 would win the competition, and the rest 20% of the time the winner would be participant 3. What about places of other participants when the first one wins? I.e., can we calculate the probabilities of placements (1,2,3) and (1,3,2)?</p>\n",
    "\n",
    "<p>Just knowing probabilities of winning in not sufficient to solve the problem. However if we assume that probabilities of winning reflect <i>relative strength</i> of participants, the situation changes. By relative strength we mean the proportion 5:3:2 in which the participants win the competitions, and assume that the proportions kept untouched in a competition with a subset of participants. E.g., in a competition between participants 2 and 3 the probabilities of winning would form a proportion 30%:20% = 3:2, so in 60% of competitions which were won by number 1, the placing would be (1,2,3), and in the rest 40% of those competitions the placing would be (1,3,2).</p>\n",
    "\n",
    "<p>With this assumption we would compute probabilities of all placings using recursive tree procedure</p>"
   ]
  },
  {
   "cell_type": "markdown",
   "metadata": {},
   "source": [
    "## Formal problem statement"
   ]
  },
  {
   "cell_type": "markdown",
   "metadata": {},
   "source": [
    "<p>Let there be $n$ participants in a competition, denote the set of participants $N=\\{1,2,\\dots,n\\}$, and let $p_k,\\,k\\in N$ be the probabilities of winning a competition by a participant $k$. We would assume that the probabilities reflect relative strength of participants, that is, in each competition with a nonempty subset of participants $S\\subseteq N$ probabilities of winning the competition would keep relative value<p/><br>\n",
    "$$\n",
    "p_k^S=\\frac{p_k}{\\sum_{i\\in S}p_i},\\;\\;k\\in S.\n",
    "$$\n",
    "<p>In the introductory example we have $n=3$, $N=\\{1,2,3\\}$, $p_1=0.5$, $p_2=0.3$, $p_3=0.2$, so for $S=\\{2,3\\}$ we have $p_1^S=0.6$, $p_2^S=0.4$, and for $S=\\{1,2\\}$ the probabilities are $p_1^S=5/8=0.625$, $p_2^S=3/8=0.375$.</p>\n",
    "\n",
    "<p>Next denote $R(S)=(i_1,\\dots,i_{|S|})$ a permutation of elements of a set $S$; here $|S|$ stands for number of elements of $S$. Any such permutation represents a placement of participants in a competition among members of $S$. With assumptions described, probability of such placement is computed via</p><br>\n",
    "$$\n",
    "P(R(S))=p_{i_1}^S P(R(S\\setminus\\{i_1\\}))\n",
    "$$\n",
    "<p>which may be contunued recursively as</p><br>\n",
    "$$\n",
    "P(R(S)) = p_{i_1}^S p_{i_2}^{S\\setminus\\{i_1\\}} p_{i_3}^{S\\setminus\\{i_1,i_2\\}}\\cdots p_{i_{|S|-1}}^{\\{i_{|S|-1},i_{|S|}\\}} p_{i_{|S|}}^{\\{i_{|S|}\\}},\n",
    "$$\n",
    "<p>where clearly $p_{i_{|S|}}^{\\{i_{|S|}\\}}=1$, because in a competition with one participant that participant wins with probability 1."
   ]
  },
  {
   "cell_type": "markdown",
   "metadata": {},
   "source": [
    "## Code for recursive calculation of a placement probability"
   ]
  },
  {
   "cell_type": "code",
   "execution_count": 1,
   "metadata": {
    "collapsed": true
   },
   "outputs": [],
   "source": [
    "# import standard package\n",
    "import numpy as np\n",
    "\n",
    "# computing placement probability\n",
    "def placement_prob(placement, probs_win):\n",
    "    \"\"\" takes a placement, e.g. [2,1,3,0], and probabilities of winning,\n",
    "    returns the probability of the placement\n",
    "    \"\"\"\n",
    "    n = len(probs_win)\n",
    "    if n <= 1:\n",
    "        return 1\n",
    "    else:\n",
    "        # pw = probs_win[placement]\n",
    "        pn = np.delete(probs_win, 0)\n",
    "        pn = pn / pn.sum()\n",
    "        pr0 = probs_win[0]\n",
    "        plc = np.delete(placement, 0)\n",
    "        return pr0 * placement_prob(plc, pn)\n",
    "\n",
    "# creating a list of all permutations (placements) of the array a\n",
    "def permutations(a):\n",
    "    \"\"\" returns a list of all permutations of elements of the array a\n",
    "    each element of the output list is a permutatation represented by a numpy array\n",
    "\n",
    "    \"\"\"\n",
    "    ls = list()\n",
    "    n = len(a)\n",
    "    if n <= 1:\n",
    "        ls.append(a)\n",
    "    else:\n",
    "        for i in range(n):\n",
    "            tmp = a[i]\n",
    "            aa = np.delete(a, i)\n",
    "            lss = permutations(aa)\n",
    "            lss = [np.concatenate(([tmp], x)) for x in lss]\n",
    "            ls.extend(lss)\n",
    "    return ls"
   ]
  },
  {
   "cell_type": "markdown",
   "metadata": {},
   "source": [
    "## Examples"
   ]
  },
  {
   "cell_type": "markdown",
   "metadata": {},
   "source": [
    "### Generic code"
   ]
  },
  {
   "cell_type": "code",
   "execution_count": 2,
   "metadata": {
    "collapsed": true
   },
   "outputs": [],
   "source": [
    "def example(probs_win):\n",
    "    \"\"\" takes an array of winning probabilities,\n",
    "    computes probabilities for all placements,\n",
    "    and prints them out\n",
    "    \"\"\"\n",
    "    participants = np.array(range(len(probs_win)))\n",
    "    all_placements = permutations(participants)\n",
    "\n",
    "    # compute probabilities of all permutations\n",
    "    probs = np.array([placement_prob(plc, probs_win[plc]) for plc in all_placements])\n",
    "\n",
    "    # print out probabilities\n",
    "    for i in range(len(probs)):\n",
    "        print(all_placements[i] + 1, probs[i])\n",
    "\n",
    "    # check that probabilities sum to 1\n",
    "    print('number of placements: {0}, sum of probabilities: {1}'.format(len(probs), probs.sum()))"
   ]
  },
  {
   "cell_type": "markdown",
   "metadata": {},
   "source": [
    "### Two participants"
   ]
  },
  {
   "cell_type": "code",
   "execution_count": 3,
   "metadata": {
    "collapsed": false
   },
   "outputs": [
    {
     "name": "stdout",
     "output_type": "stream",
     "text": [
      "[1 2] 0.6\n",
      "[2 1] 0.4\n",
      "number of placements: 2, sum of probabilities: 1.0\n"
     ]
    }
   ],
   "source": [
    "probs_win = np.array([0.6, 0.4])\n",
    "example(probs_win)"
   ]
  },
  {
   "cell_type": "markdown",
   "metadata": {},
   "source": [
    "### Three participants"
   ]
  },
  {
   "cell_type": "code",
   "execution_count": 4,
   "metadata": {
    "collapsed": false
   },
   "outputs": [
    {
     "name": "stdout",
     "output_type": "stream",
     "text": [
      "[1 2 3] 0.3\n",
      "[1 3 2] 0.2\n",
      "[2 1 3] 0.214285714286\n",
      "[2 3 1] 0.0857142857143\n",
      "[3 1 2] 0.125\n",
      "[3 2 1] 0.075\n",
      "number of placements: 6, sum of probabilities: 1.0\n"
     ]
    }
   ],
   "source": [
    "probs_win = np.array([0.5,0.3,0.2])\n",
    "example(probs_win)"
   ]
  },
  {
   "cell_type": "markdown",
   "metadata": {},
   "source": [
    "### Four participants"
   ]
  },
  {
   "cell_type": "code",
   "execution_count": 5,
   "metadata": {
    "collapsed": false
   },
   "outputs": [
    {
     "name": "stdout",
     "output_type": "stream",
     "text": [
      "[1 2 3 4] 0.133333333333\n",
      "[1 2 4 3] 0.0666666666667\n",
      "[1 3 2 4] 0.1\n",
      "[1 3 4 2] 0.0333333333333\n",
      "[1 4 2 3] 0.04\n",
      "[1 4 3 2] 0.0266666666667\n",
      "[2 1 3 4] 0.114285714286\n",
      "[2 1 4 3] 0.0571428571429\n",
      "[2 3 1 4] 0.0685714285714\n",
      "[2 3 4 1] 0.0171428571429\n",
      "[2 4 1 3] 0.0285714285714\n",
      "[2 4 3 1] 0.0142857142857\n",
      "[3 1 2 4] 0.075\n",
      "[3 1 4 2] 0.025\n",
      "[3 2 1 4] 0.06\n",
      "[3 2 4 1] 0.015\n",
      "[3 4 1 2] 0.0142857142857\n",
      "[3 4 2 1] 0.0107142857143\n",
      "[4 1 2 3] 0.0266666666667\n",
      "[4 1 3 2] 0.0177777777778\n",
      "[4 2 1 3] 0.0222222222222\n",
      "[4 2 3 1] 0.0111111111111\n",
      "[4 3 1 2] 0.0126984126984\n",
      "[4 3 2 1] 0.00952380952381\n",
      "number of placements: 24, sum of probabilities: 1.0\n"
     ]
    }
   ],
   "source": [
    "probs_win = np.array([0.4, 0.3, 0.2, 0.1])\n",
    "example(probs_win)"
   ]
  },
  {
   "cell_type": "markdown",
   "metadata": {},
   "source": [
    "### Four participants, different probabilities"
   ]
  },
  {
   "cell_type": "code",
   "execution_count": 6,
   "metadata": {
    "collapsed": false
   },
   "outputs": [
    {
     "name": "stdout",
     "output_type": "stream",
     "text": [
      "[1 2 3 4] 0.107142857143\n",
      "[1 2 4 3] 0.107142857143\n",
      "[1 3 2 4] 0.0357142857143\n",
      "[1 3 4 2] 0.00714285714286\n",
      "[1 4 2 3] 0.0357142857143\n",
      "[1 4 3 2] 0.00714285714286\n",
      "[2 1 3 4] 0.15\n",
      "[2 1 4 3] 0.15\n",
      "[2 3 1 4] 0.075\n",
      "[2 3 4 1] 0.025\n",
      "[2 4 1 3] 0.075\n",
      "[2 4 3 1] 0.025\n",
      "[3 1 2 4] 0.0277777777778\n",
      "[3 1 4 2] 0.00555555555556\n",
      "[3 2 1 4] 0.0416666666667\n",
      "[3 2 4 1] 0.0138888888889\n",
      "[3 4 1 2] 0.00416666666667\n",
      "[3 4 2 1] 0.00694444444444\n",
      "[4 1 2 3] 0.0277777777778\n",
      "[4 1 3 2] 0.00555555555556\n",
      "[4 2 1 3] 0.0416666666667\n",
      "[4 2 3 1] 0.0138888888889\n",
      "[4 3 1 2] 0.00416666666667\n",
      "[4 3 2 1] 0.00694444444444\n",
      "number of placements: 24, sum of probabilities: 1.0\n"
     ]
    }
   ],
   "source": [
    "probs_win = np.array([0.3, 0.5, 0.1, 0.1])\n",
    "example(probs_win)"
   ]
  }
 ],
 "metadata": {
  "anaconda-cloud": {},
  "kernelspec": {
   "display_name": "Python [conda root]",
   "language": "python",
   "name": "conda-root-py"
  },
  "language_info": {
   "codemirror_mode": {
    "name": "ipython",
    "version": 3
   },
   "file_extension": ".py",
   "mimetype": "text/x-python",
   "name": "python",
   "nbconvert_exporter": "python",
   "pygments_lexer": "ipython3",
   "version": "3.5.2"
  }
 },
 "nbformat": 4,
 "nbformat_minor": 1
}
