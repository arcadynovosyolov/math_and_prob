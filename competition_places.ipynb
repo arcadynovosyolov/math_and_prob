{
 "cells": [
  {
   "cell_type": "markdown",
   "metadata": {},
   "source": [
    "# Computing probabilities of placings in a competition"
   ]
  },
  {
   "cell_type": "markdown",
   "metadata": {},
   "source": [
    "<p>Consider a competition with 3 participants, and assume we know the probabilities of winning for each partitipant, e.g. 50%, 30% and 20% for the participants 1, 2, and 3 respectively. This means that we expect that 50% of the time participant 1 would win the competition, 30% of the time participant 2 would win the competition, and the rest 20% of the time the winner would be participant 3. What about places of other participants when the first one wins? I.e., can we calculate the probabilities of placements (1,2,3) and (1,3,2)?</p>\n",
    "\n",
    "<p>Just knowing probabilities of winning in not sufficient to solve the problem. However if we assume that probabilities of winning reflect <i>relative strength</i> of participants, the situation changes. By relative strength we mean the proportion 5:3:2 in which the participants win the competitions, and assume that the proportions kept untouched in a competition with a subset of participants. E.g., in a competition between participants 2 and 3 the probabilities of winning would form a proportion 30%:20% = 3:2, so in 60% of competitions which were won by number 1, the placing would be (1,2,3), and in the rest 40% of those competitions the placing would be (1,3,2).</p>\n",
    "\n",
    "<p>With this assumption we would compute probabilities of all placings using recursive tree procedure</p>"
   ]
  },
  {
   "cell_type": "markdown",
   "metadata": {},
   "source": [
    "## Formal problem statement"
   ]
  },
  {
   "cell_type": "markdown",
   "metadata": {},
   "source": [
    "Let there be $n$ participants in a competition, denote the set of participants $N=\\{1,2,\\dots,n\\}$, and let $p_k,\\,k\\in N$ be the probabilities of winning a competition by a participant $k$. We would assume that the probabilities reflect relative strength of participants, that is, in each competition with a nonempty subset of participants $S\\subseteq N$ probabilities of winning the competition would keep relative value\n",
    "\n",
    "$$\n",
    "p_k^S=\\frac{p_k}{\\sum_{i\\in S}p_i},\\;\\;k\\in S.\n",
    "$$\n",
    "\n",
    "In the introductory example we have $n=3$, $N=\\{1,2,3\\}$, $p_1=0.5$, $p_2=0.3$, $p_3=0.2$, so for $S=\\{2,3\\}$ we have $p_1^S=0.6$, $p_2^S=0.4$, and for $S=\\{1,2\\}$ the probabilities are $p_1^S=5/8=0.625$, $p_2^S=3/8=0.375$.\n",
    "\n",
    "Next denote $R(S)=(i_1,\\dots,i_{|S|})$ a permutation of elements of a set $S$; here $|S|$ stands for number of elements of $S$. Any such permutation represents a placement of participants in a competition among members of $S$. With assumptions described, probability of such placement is computed via\n",
    "\n",
    "$$\n",
    "P(R(S))=p_{i_1}^S P(R(S\\setminus\\{i_1\\})),\n",
    "$$\n",
    "which may be contunued recursively as\n",
    "\n",
    "$$\n",
    "P(R(S)) = p_{i_1}^S p_{i_2}^{S\\setminus\\{i_1\\}} p_{i_3}^{S\\setminus\\{i_1,i_2\\}}\\cdots p_{i_{|S|-1}}^{\\{i_{|S|-1},i_{|S|}\\}} p_{i_{|S|}}^{\\{i_{|S|}\\}},\n",
    "$$\n",
    "where clearly $p_{i_{|S|}}^{\\{i_{|S|}\\}}=1$, because in a competition with one participant that participant wins with probability 1."
   ]
  },
  {
   "cell_type": "markdown",
   "metadata": {},
   "source": [
    "## Code for recursive calculation of a placement probability"
   ]
  },
  {
   "cell_type": "code",
   "execution_count": 1,
   "metadata": {
    "collapsed": false
   },
   "outputs": [
    {
     "name": "stdout",
     "output_type": "stream",
     "text": [
      "Populating the interactive namespace from numpy and matplotlib\n"
     ]
    }
   ],
   "source": [
    "# import standard package\n",
    "%pylab inline\n",
    "\n",
    "# computing placement probability\n",
    "def plc_prob(placement, probs_win):\n",
    "    \"\"\" takes a placement, e.g. [2,1,3,0], and probabilities of winning,\n",
    "    returns the probability of the placement\n",
    "    \"\"\"\n",
    "    n = len(probs_win)\n",
    "    if n <= 1:\n",
    "        return 1\n",
    "    else:\n",
    "        # pw = probs_win[placement]\n",
    "        pn = np.delete(probs_win, 0)\n",
    "        pn = pn / pn.sum()\n",
    "        pr0 = probs_win[0]\n",
    "        plc = np.delete(placement, 0)\n",
    "        return pr0 * plc_prob(plc, pn)\n",
    "\n",
    "# creating a list of all permutations (placements) of the array a\n",
    "def permutations(a):\n",
    "    \"\"\" returns a list of all permutations of elements\n",
    "    of the array 'a', each element of the output list\n",
    "    is a permutatation represented by a numpy array\n",
    "\n",
    "    \"\"\"\n",
    "    ls = list()\n",
    "    n = len(a)\n",
    "    if n <= 1:\n",
    "        ls.append(a)\n",
    "    else:\n",
    "        for i in range(n):\n",
    "            tmp = a[i]\n",
    "            aa = np.delete(a, i)\n",
    "            lss = permutations(aa)\n",
    "            lss = [np.concatenate(([tmp], x)) for x in lss]\n",
    "            ls.extend(lss)\n",
    "    return ls"
   ]
  },
  {
   "cell_type": "markdown",
   "metadata": {},
   "source": [
    "## Examples"
   ]
  },
  {
   "cell_type": "markdown",
   "metadata": {},
   "source": [
    "### Generic code"
   ]
  },
  {
   "cell_type": "code",
   "execution_count": 2,
   "metadata": {
    "collapsed": true
   },
   "outputs": [],
   "source": [
    "def example(probs_win):\n",
    "    \"\"\" takes an array of winning probabilities,\n",
    "    computes probabilities for all placements,\n",
    "    and prints them out\n",
    "    \"\"\"\n",
    "    participants = np.array(range(len(probs_win)))\n",
    "    all_plcs = permutations(participants)\n",
    "\n",
    "    # compute probabilities of all permutations\n",
    "    probs = np.array([plc_prob(plc, probs_win[plc]) for plc in all_plcs])\n",
    "    \n",
    "    return all_plcs, probs\n",
    "\n",
    "def print_out(all_plcs, probs):\n",
    "    \"\"\" just print out the results \"\"\"\n",
    "\n",
    "    for i in range(len(probs)):\n",
    "        print(all_plcs[i] + 1, '{0:10.3f}'.format(probs[i]).strip())\n",
    "\n",
    "def plot_probs(all_plcs, probs, save_figure=False):\n",
    "    \"\"\" plots the results as a horizontsl bar chart \"\"\"\n",
    "    s = [','.join(['{0}'.format(i) for i in all_plcs[j] + 1]) \\\n",
    "         for j in range(len(all_plcs))]\n",
    "    xx = np.array(range(len(probs)))\n",
    "    bb = barh(xx, probs)\n",
    "    yy = yticks(xx, s)\n",
    "    yl = ylabel('Placement')\n",
    "    xl = xlabel('Probability')\n",
    "    ti = title('Probabilities of placements')\n",
    "    if save_figure:\n",
    "        savefig('a.png')"
   ]
  },
  {
   "cell_type": "markdown",
   "metadata": {},
   "source": [
    "### Two participants"
   ]
  },
  {
   "cell_type": "code",
   "execution_count": 3,
   "metadata": {
    "collapsed": false
   },
   "outputs": [
    {
     "name": "stdout",
     "output_type": "stream",
     "text": [
      "[1 2] 0.600\n",
      "[2 1] 0.400\n"
     ]
    }
   ],
   "source": [
    "probs_win = np.array([0.6, 0.4])\n",
    "all_plcs, probs = example(probs_win)\n",
    "print_out(all_plcs, probs)"
   ]
  },
  {
   "cell_type": "markdown",
   "metadata": {},
   "source": [
    "### Three participants"
   ]
  },
  {
   "cell_type": "code",
   "execution_count": 4,
   "metadata": {
    "collapsed": false
   },
   "outputs": [
    {
     "name": "stdout",
     "output_type": "stream",
     "text": [
      "[1 2 3] 0.300\n",
      "[1 3 2] 0.200\n",
      "[2 1 3] 0.214\n",
      "[2 3 1] 0.086\n",
      "[3 1 2] 0.125\n",
      "[3 2 1] 0.075\n"
     ]
    }
   ],
   "source": [
    "probs_win = np.array([0.5,0.3,0.2])\n",
    "all_plcs, probs = example(probs_win)\n",
    "print_out(all_plcs, probs)"
   ]
  },
  {
   "cell_type": "markdown",
   "metadata": {},
   "source": [
    "### Four participants, two different sets of winning probabilities"
   ]
  },
  {
   "cell_type": "code",
   "execution_count": 5,
   "metadata": {
    "collapsed": false
   },
   "outputs": [
    {
     "data": {
      "image/png": "[encoded data removed]",
      "text/plain": [
       "<matplotlib.figure.Figure at 0x1ef75cc75c0>"
      ]
     },
     "metadata": {},
     "output_type": "display_data"
    }
   ],
   "source": [
    "# calculate probabilities of placements for the first set\n",
    "probs_win1 = np.array([0.4, 0.3, 0.2, 0.1])\n",
    "all_plcs1, probs1 = example(probs_win1)\n",
    "\n",
    "# calculate probabilities of placements for the second set\n",
    "probs_win2 = np.array([0.3, 0.5, 0.1, 0.1])\n",
    "all_plcs2, probs2 = example(probs_win2)\n",
    "\n",
    "# draw charts\n",
    "figsize(14,10)\n",
    "subplot(1,2,1)\n",
    "plot_probs(all_plcs1, probs1)\n",
    "subplot(1,2,2)\n",
    "plot_probs(all_plcs2, probs2)"
   ]
  }
 ],
 "metadata": {
  "anaconda-cloud": {},
  "kernelspec": {
   "display_name": "Python 3",
   "language": "python",
   "name": "python3"
  },
  "language_info": {
   "codemirror_mode": {
    "name": "ipython",
    "version": 3
   },
   "file_extension": ".py",
   "mimetype": "text/x-python",
   "name": "python",
   "nbconvert_exporter": "python",
   "pygments_lexer": "ipython3",
   "version": "3.6.0"
  }
 },
 "nbformat": 4,
 "nbformat_minor": 1
}
