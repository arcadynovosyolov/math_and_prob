{
 "cells": [
  {
   "cell_type": "markdown",
   "metadata": {},
   "source": [
    "# Marginal distributions"
   ]
  },
  {
   "cell_type": "markdown",
   "metadata": {},
   "source": [
    "In this notebook we describe some methods of finding marginal distributions given joint distribution on a non-rectangular area."
   ]
  },
  {
   "cell_type": "code",
   "execution_count": 1,
   "metadata": {
    "collapsed": false
   },
   "outputs": [
    {
     "name": "stdout",
     "output_type": "stream",
     "text": [
      "Populating the interactive namespace from numpy and matplotlib\n"
     ]
    }
   ],
   "source": [
    "# import plotting facilities\n",
    "%pylab inline"
   ]
  },
  {
   "cell_type": "markdown",
   "metadata": {},
   "source": [
    "## Continuous distributions"
   ]
  },
  {
   "cell_type": "markdown",
   "metadata": {},
   "source": [
    "Continuous distribution of a two-dimensional random vector $(X,Y)$ is described by a density function $f(x,y),\\;(x,y)\\in D$, where $D$ is a domain for $(X,Y)$, that is, $P((X,Y)\\in D)=1$."
   ]
  },
  {
   "cell_type": "markdown",
   "metadata": {},
   "source": [
    "### Problem 1"
   ]
  },
  {
   "cell_type": "markdown",
   "metadata": {},
   "source": [
    "Given a distribution with density function $f(x,y)=a(x+2y)$ in the triangle $D=\\{x\\geq0,\\;y\\geq0,\\;x+y\\leq1\\}$, as shown in the figure below."
   ]
  },
  {
   "cell_type": "markdown",
   "metadata": {},
   "source": [
    "<img src='triang_domain.jpg'></img>"
   ]
  },
  {
   "cell_type": "markdown",
   "metadata": {},
   "source": [
    "Find the constant $a$ and compute the margimal density functions $f_X(x),\\;f_y(y),\\;x,y\\in[0,1]$."
   ]
  },
  {
   "cell_type": "markdown",
   "metadata": {},
   "source": [
    "### Solution"
   ]
  },
  {
   "cell_type": "markdown",
   "metadata": {},
   "source": [
    "First note that $$ \\int_D f(x,y)\\,dx\\,dy=1, $$ so we must have $$ a\\int_0^1\\left(\\int_0^{1-x} (x+2y)\\,dy\\right)dx=a\\int_0^1 \\left(x(1-x)+(1-x)^2\\right)\\,dx=a\\int_0^1(1-x)\\,dx=a\\,\\frac12=1, $$ so $$ a=2. $$ Next, for the marginal density of $X$ we have $$ f_X(x)=\\int_0^{1-x} f(x,y)\\,dy=2\\int_0^{1-x}(x+2y)\\,dy=2(1-x),\\;x\\in[0,1]. $$ Similarly, $$ f_Y(y)=\\int_0^{1-y} f(x,y)\\,dx=2\\int_0^{1-y}(x+2y)\\,dx=(1-y)(1+3y),\\;y\\in[0,1]. $$"
   ]
  },
  {
   "cell_type": "markdown",
   "metadata": {},
   "source": [
    "### Illustration"
   ]
  },
  {
   "cell_type": "code",
   "execution_count": 2,
   "metadata": {
    "collapsed": true
   },
   "outputs": [],
   "source": [
    "def marg_x(x):\n",
    "    \"\"\" marginal density of X \"\"\"\n",
    "    return 2 * (1 - x)\n",
    "\n",
    "def marg_y(y):\n",
    "    \"\"\" marginal density of y \"\"\"\n",
    "    return (1 - y) * (1 + 3 * y)"
   ]
  },
  {
   "cell_type": "code",
   "execution_count": 3,
   "metadata": {
    "collapsed": false
   },
   "outputs": [
    {
     "data": {
      "image/png": "[encoded data removed]",
      "text/plain": [
       "<matplotlib.figure.Figure at 0x1c7c31b79e8>"
      ]
     },
     "metadata": {},
     "output_type": "display_data"
    }
   ],
   "source": [
    "x = np.linspace(0, 1, 101)\n",
    "y = np.linspace(0, 1, 101)\n",
    "figsize(10, 5)\n",
    "subplot(1, 2, 1)\n",
    "plot(x, marg_x(x))\n",
    "title('Marginal X density')\n",
    "subplot(1, 2, 2)\n",
    "plot(y, marg_y(y))\n",
    "ti = title('Marginal Y density')"
   ]
  }
 ],
 "metadata": {
  "kernelspec": {
   "display_name": "Python 3",
   "language": "python",
   "name": "python3"
  },
  "language_info": {
   "codemirror_mode": {
    "name": "ipython",
    "version": 3
   },
   "file_extension": ".py",
   "mimetype": "text/x-python",
   "name": "python",
   "nbconvert_exporter": "python",
   "pygments_lexer": "ipython3",
   "version": "3.6.0"
  }
 },
 "nbformat": 4,
 "nbformat_minor": 2
}
