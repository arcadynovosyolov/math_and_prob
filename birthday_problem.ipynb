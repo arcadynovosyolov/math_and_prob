{
 "cells": [
  {
   "cell_type": "markdown",
   "metadata": {},
   "source": [
    "# Birthday problem"
   ]
  },
  {
   "cell_type": "markdown",
   "metadata": {},
   "source": [
    "The problem was discussed in the [TED lesson](http://ed.ted.com/lessons/check-your-intuition-the-birthday-problem-david-knuffke). Here we present its solution using Python."
   ]
  },
  {
   "cell_type": "code",
   "execution_count": 1,
   "metadata": {
    "collapsed": false
   },
   "outputs": [
    {
     "name": "stdout",
     "output_type": "stream",
     "text": [
      "Populating the interactive namespace from numpy and matplotlib\n"
     ]
    }
   ],
   "source": [
    "# import plotting environment and numpy as np\n",
    "import pandas as pd\n",
    "%pylab inline"
   ]
  },
  {
   "cell_type": "markdown",
   "metadata": {},
   "source": [
    "## Problem formulation"
   ]
  },
  {
   "cell_type": "markdown",
   "metadata": {},
   "source": [
    "Recall the problem: how big a group of people would have to be before there’s more than a 50% chance that two people in the group have the same birthday?"
   ]
  },
  {
   "cell_type": "markdown",
   "metadata": {},
   "source": [
    "## Solution"
   ]
  },
  {
   "cell_type": "markdown",
   "metadata": {},
   "source": [
    "Suppose there are 365 days in the year, and find the probability of complementary event $A_n$: there's no coincidences of birthdays in the group of $n$ people. So the problem reformulates as follows: what is the minimum group size $n$ such that $P(A_n)\\leq0.5$. For $n=1$ we have $P(A_1)=1$. If we add a member to the group, for the event $A_2$ to occur the birthday of the new member whould fall in one of 364 remaining days, so the probability $P(A_2)=1\\times \\frac{364}{365}=1\\times\\left(1-\\frac1{365}\\right)$. Adding a third member to the group provides $P(A_3)=1\\times\\left(1-\\frac1{365}\\right)\\times\\left(1-\\frac2{365}\\right)$. Continuing up to $n$ members we get $$ P(A_n)=1\\times\\left(1-\\frac1{365}\\right)\\cdots\\times\\left(1-\\frac{n-1}{365}\\right)=\\prod_{k=0}^{n-1}\\left(1-\\frac{k}{365}\\right). $$ Let's make calculations."
   ]
  },
  {
   "cell_type": "code",
   "execution_count": 2,
   "metadata": {
    "collapsed": false
   },
   "outputs": [
    {
     "name": "stdout",
     "output_type": "stream",
     "text": [
      "original:\n",
      "1     365\n",
      "2     364\n",
      "3     363\n",
      "4     362\n",
      "5     361\n",
      "6     360\n",
      "7     359\n",
      "8     358\n",
      "9     357\n",
      "10    356\n",
      "dtype: int32\n"
     ]
    }
   ],
   "source": [
    "# define as array of multipliers\n",
    "ndays = 365\n",
    "x = pd.Series(range(ndays, 0, -1), index=range(1,ndays+1))\n",
    "\n",
    "# show 10 first members of x\n",
    "print('original:')\n",
    "print(x[:10])"
   ]
  },
  {
   "cell_type": "code",
   "execution_count": 3,
   "metadata": {
    "collapsed": false
   },
   "outputs": [
    {
     "name": "stdout",
     "output_type": "stream",
     "text": [
      "normalized\n",
      "1     1.000\n",
      "2     0.997\n",
      "3     0.995\n",
      "4     0.992\n",
      "5     0.989\n",
      "6     0.986\n",
      "7     0.984\n",
      "8     0.981\n",
      "9     0.978\n",
      "10    0.975\n",
      "dtype: float64\n"
     ]
    }
   ],
   "source": [
    "# divide x by ndays\n",
    "x = x / ndays\n",
    "print('normalized')\n",
    "print(x[:10].round(3))"
   ]
  },
  {
   "cell_type": "code",
   "execution_count": 4,
   "metadata": {
    "collapsed": false
   },
   "outputs": [
    {
     "name": "stdout",
     "output_type": "stream",
     "text": [
      "cum product:\n",
      "1     1.000\n",
      "2     0.997\n",
      "3     0.992\n",
      "4     0.984\n",
      "5     0.973\n",
      "6     0.960\n",
      "7     0.944\n",
      "8     0.926\n",
      "9     0.905\n",
      "10    0.883\n",
      "dtype: float64\n"
     ]
    }
   ],
   "source": [
    "# compute cumulative product\n",
    "xc = x.cumprod()\n",
    "print('cum product:')\n",
    "print(xc[:10].round(3))"
   ]
  },
  {
   "cell_type": "code",
   "execution_count": 5,
   "metadata": {
    "collapsed": false
   },
   "outputs": [
    {
     "data": {
      "image/png": "[encoded data removed]",
      "text/plain": [
       "<matplotlib.figure.Figure at 0x24962d1eb70>"
      ]
     },
     "metadata": {},
     "output_type": "display_data"
    }
   ],
   "source": [
    "one_half = pd.Series(0.5, index=xc.index)\n",
    "\n",
    "figsize(12,5)\n",
    "subplot(1,2,1)\n",
    "xc.plot(label='P(An)')\n",
    "one_half.plot(label='0,5')\n",
    "title('Probability of An, total region')\n",
    "xlabel('Group size')\n",
    "legend()\n",
    "\n",
    "subplot(1,2,2)\n",
    "n_min = 20; n_max = 25\n",
    "xc[n_min:n_max].plot(label='P(An)')\n",
    "one_half[n_min:n_max].plot(label='0,5')\n",
    "title('Probability of An, small region')\n",
    "xlabel('Group size')\n",
    "legend()\n",
    "tight_layout()"
   ]
  },
  {
   "cell_type": "markdown",
   "metadata": {},
   "source": [
    "We see that the group size 23 is the minimum size for which probability of $A_n$ is less that one half, or the probability of matching birthdays is greater that one half."
   ]
  },
  {
   "cell_type": "code",
   "execution_count": 6,
   "metadata": {
    "collapsed": false
   },
   "outputs": [
    {
     "name": "stdout",
     "output_type": "stream",
     "text": [
      "0.524 0.493\n"
     ]
    }
   ],
   "source": [
    "# check that\n",
    "print(xc[22].round(3), xc[23].round(3))"
   ]
  }
 ],
 "metadata": {
  "kernelspec": {
   "display_name": "Python 3",
   "language": "python",
   "name": "python3"
  },
  "language_info": {
   "codemirror_mode": {
    "name": "ipython",
    "version": 3
   },
   "file_extension": ".py",
   "mimetype": "text/x-python",
   "name": "python",
   "nbconvert_exporter": "python",
   "pygments_lexer": "ipython3",
   "version": "3.6.0"
  }
 },
 "nbformat": 4,
 "nbformat_minor": 2
}
