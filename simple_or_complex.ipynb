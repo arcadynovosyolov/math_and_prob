{
 "cells": [
  {
   "cell_type": "markdown",
   "metadata": {},
   "source": [
    "# Simple or complex?"
   ]
  },
  {
   "cell_type": "markdown",
   "metadata": {},
   "source": [
    "In many cases a problem at hand may be solved by a standard approach using a compllex tjeoretic derivation, and at the same time the problem possesses a simpler, and thus more intuitive solution. Below we consider an example of such a problem."
   ]
  },
  {
   "cell_type": "markdown",
   "metadata": {},
   "source": [
    "## Problem"
   ]
  },
  {
   "cell_type": "markdown",
   "metadata": {},
   "source": [
    "Let a wooden cube $3\\times3\\times3$ inches be painted with red, and then cut up to 27 cubes $1\\times1\\times1$ inches each. After that a small cube is chosen at random and rolled. What is the probability that a red face would be on top?"
   ]
  },
  {
   "cell_type": "markdown",
   "metadata": {},
   "source": [
    "## Standard solution"
   ]
  },
  {
   "cell_type": "markdown",
   "metadata": {},
   "source": [
    "A rather standard approach consists in applying the total probability law. Each small cube may have 0, 1, 2, or 3 faces painted in red, denote $A_k$ events \"a random cube has exactly $k$ red faces\", $k=0, 1, 2, 3$. Next, denote $N(A_k)$ number of elements in $A_k$, clearly $N(A_0)=1,\\;N(A_1)=6,\\;N(A_2)=12,\\;N(A_3)=8$. Thus the probabilities of $A_k$ events are $$ P(A_0)=\\frac1{27},\\;P(A_1)=\\frac6{27},\\;P(A_2)=\\frac{12}{27},\\;P(A_3)=\\frac8{27}\\,. $$ Besides that we have for conditional probabilities of a red face on top, given the event $A_k$, equal to $$P(R|A_k)=\\frac{k}6,\\;k=0,1,2,3\\,.$$ The law of total probability now gives $$ P(R)=\\sum_{k=0}^3 P(R|A_k)P(A_k)=0\\cdot\\frac{1}{27}+\\frac{1}{6}\\frac{6}{27}+\\frac{2}{6}\\frac{12}{27}+\\frac{3}{6}\\frac{8}{27}=\\frac{1}{27}+\\frac{4}{27}+\\frac{4}{27}=\\frac{1}{3}\\,. $$"
   ]
  }
 ],
 "metadata": {
  "kernelspec": {
   "display_name": "Python 3",
   "language": "python",
   "name": "python3"
  },
  "language_info": {
   "codemirror_mode": {
    "name": "ipython",
    "version": 3
   },
   "file_extension": ".py",
   "mimetype": "text/x-python",
   "name": "python",
   "nbconvert_exporter": "python",
   "pygments_lexer": "ipython3",
   "version": "3.6.0"
  }
 },
 "nbformat": 4,
 "nbformat_minor": 2
}
