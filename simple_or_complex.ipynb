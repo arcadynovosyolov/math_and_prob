{
 "cells": [
  {
   "cell_type": "markdown",
   "metadata": {},
   "source": [
    "# Simple or complex?"
   ]
  },
  {
   "cell_type": "markdown",
   "metadata": {},
   "source": [
    "In many cases a problem at hand may be solved by a standard approach using a compllex theoretic derivation, and at the same time the problem possesses a simpler, and thus more intuitive solution. Below we consider examples of such problems, taken from [Brilliant site](https://brilliant.org/)."
   ]
  },
  {
   "cell_type": "markdown",
   "metadata": {},
   "source": [
    "## Problem 1"
   ]
  },
  {
   "cell_type": "markdown",
   "metadata": {},
   "source": [
    "Let a wooden cube $3\\times3\\times3$ inches be painted with red, and then cut up to 27 cubes $1\\times1\\times1$ inches each. After that a small cube is chosen at random and rolled. What is the probability that a red face would be on top?"
   ]
  },
  {
   "cell_type": "markdown",
   "metadata": {},
   "source": [
    "## Standard solution"
   ]
  },
  {
   "cell_type": "markdown",
   "metadata": {},
   "source": [
    "A rather standard approach consists in applying the total probability law. Each small cube may have 0, 1, 2, or 3 faces painted in red, denote $A_k$ events \"a random cube has exactly $k$ red faces\", $k=0, 1, 2, 3$. Next, denote $N(A_k)$ number of elements in $A_k$, clearly $N(A_0)=1,\\;N(A_1)=6,\\;N(A_2)=12,\\;N(A_3)=8$. Thus the probabilities of $A_k$ events are $$ P(A_0)=\\frac1{27},\\;P(A_1)=\\frac6{27},\\;P(A_2)=\\frac{12}{27},\\;P(A_3)=\\frac8{27}\\,. $$ Besides that we have for conditional probabilities of a red face on top, given the event $A_k$, equal to $$P(R|A_k)=\\frac{k}6,\\;k=0,1,2,3\\,.$$ The law of total probability now gives $$ P(R)=\\sum_{k=0}^3 P(R|A_k)P(A_k)=0\\cdot\\frac{1}{27}+\\frac{1}{6}\\frac{6}{27}+\\frac{2}{6}\\frac{12}{27}+\\frac{3}{6}\\frac{8}{27}=\\frac{1}{27}+\\frac{4}{27}+\\frac{4}{27}=\\frac{1}{3}\\,. $$"
   ]
  },
  {
   "cell_type": "markdown",
   "metadata": {},
   "source": [
    "## Simpler solution"
   ]
  },
  {
   "cell_type": "markdown",
   "metadata": {},
   "source": [
    "Now notice that since each of 27 cubes has equal chances to be selected for rolling, and each face of the selected cube has equal chances to appear on top, we may conclude that each of $27\\times6=162$ faces have equal probability $1/162$ to appear on top. Since there are $9\\times6=54$ red faces among them, the probability of red face to appear on top is $$ \\frac{54}{162}=\\frac{1}{3}, $$ as before."
   ]
  },
  {
   "cell_type": "markdown",
   "metadata": {},
   "source": [
    "The latter solution is much simpler and more intuitive, yet required some effort to get away from standard textbook pathway."
   ]
  },
  {
   "cell_type": "markdown",
   "metadata": {},
   "source": [
    "## Problem 2"
   ]
  },
  {
   "cell_type": "markdown",
   "metadata": {},
   "source": [
    "Now consider experiment consisting in $n$ sequential tosses of a fair coin, resulting in reward of 1 dollar for each pair of sequential heads; note that 3 sequential heads count as two pairs, etc. What is the expected reward?"
   ]
  },
  {
   "cell_type": "markdown",
   "metadata": {},
   "source": [
    "## Solution"
   ]
  },
  {
   "cell_type": "markdown",
   "metadata": {},
   "source": [
    "Standard approach would require counnting all possible combinations of appearance of pairs, triples, etc, followed by thourough computing rewards and corresponding probabilities. However there is also a very simple solution to the problem."
   ]
  },
  {
   "cell_type": "markdown",
   "metadata": {},
   "source": [
    "Indeed, denote $B_k=H$ or $T$ depending on what had appeared in the $k$-th toss: heads or tails, $k=1,\\dots,n$. Next, denote\n",
    "\n",
    "$$\n",
    "I_k=\\left\\{\\begin{array}{ll}1,& (B_k=H) \\;and\\; (B_{k+1}=H),\\\\ 0,&otherwise,\\end{array}\\right.\\;\\;\\;k=1,\\dots,n-1.\n",
    "$$\n",
    "\n",
    "We see that $E(I_k)==1/4$. Now clearly $$ I_1+\\cdots+I_{n-1}$$ equals to the reward following the sample tossing, and its expected value equals to $$ E(I_1+\\cdots+I_{n-1})=0.25(n-1) $$. A very simple solution without any combinatorics."
   ]
  },
  {
   "cell_type": "markdown",
   "metadata": {},
   "source": [
    "Let's check the latest solution using Monte Carlo method"
   ]
  },
  {
   "cell_type": "markdown",
   "metadata": {},
   "source": [
    "## Monte Carlo simulation"
   ]
  },
  {
   "cell_type": "code",
   "execution_count": 1,
   "metadata": {
    "collapsed": true
   },
   "outputs": [],
   "source": [
    "import numpy as np"
   ]
  },
  {
   "cell_type": "code",
   "execution_count": 2,
   "metadata": {
    "collapsed": false
   },
   "outputs": [
    {
     "name": "stdout",
     "output_type": "stream",
     "text": [
      "theoretic expected reward 24.75, Monte Carlo expected reward 24.747\n"
     ]
    }
   ],
   "source": [
    "n_trials = 100000\n",
    "n = 100\n",
    "reward = np.zeros((n_trials,))\n",
    "for tr in range(n_trials):\n",
    "    x = np.random.choice([0, 1], size=n)\n",
    "    reward[tr] = (x[1:] * x[:-1]).sum()\n",
    "fs = 'theoretic expected reward {0}, Monte Carlo expected reward {1:6.3f}'\n",
    "print(fs.format(0.25 * (n - 1), reward.mean()))"
   ]
  },
  {
   "cell_type": "markdown",
   "metadata": {},
   "source": [
    "Results are pretty close, as expected."
   ]
  },
  {
   "cell_type": "markdown",
   "metadata": {},
   "source": [
    "## Conclusion"
   ]
  },
  {
   "cell_type": "markdown",
   "metadata": {},
   "source": [
    "As always, the simpler solution, the better. In each and every sense."
   ]
  }
 ],
 "metadata": {
  "kernelspec": {
   "display_name": "Python 3",
   "language": "python",
   "name": "python3"
  },
  "language_info": {
   "codemirror_mode": {
    "name": "ipython",
    "version": 3
   },
   "file_extension": ".py",
   "mimetype": "text/x-python",
   "name": "python",
   "nbconvert_exporter": "python",
   "pygments_lexer": "ipython3",
   "version": "3.6.3"
  }
 },
 "nbformat": 4,
 "nbformat_minor": 2
}
