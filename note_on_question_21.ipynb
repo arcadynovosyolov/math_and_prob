{
 "cells": [
  {
   "cell_type": "markdown",
   "metadata": {},
   "source": [
    "# A note on Question 21 from \"40 questions on probability\""
   ]
  },
  {
   "cell_type": "markdown",
   "metadata": {},
   "source": [
    "## Description and exact formal solution"
   ]
  },
  {
   "cell_type": "markdown",
   "metadata": {},
   "source": [
    "Question 21 from the <a href=\"https://www.analyticsvidhya.com/blog/2017/04/40-questions-on-probability-for-all-aspiring-data-scientists/\" target=\"_blank\">contest</a> sounds like this: which of the following events is most likely:\n",
    "\n",
    "<ul>\n",
    "<li>(A) At least 1 six when 6 dice are rolled</li>\n",
    "<li>(B) At least 2 sixes when 12 dice are rolled</li>\n",
    "<li>(C) At least 3 sixes when 18 dice are rolled</li>\n",
    "</ul>"
   ]
  },
  {
   "cell_type": "markdown",
   "metadata": {},
   "source": [
    "The solution to this question contains contains an error. Indeed, denote $p=1/6$ the probability of getting 6 in a single roll, $f(n,p,k)$ the probability of getting $k$ sixes in $n$ rolls (it is clearly binomial), and $F(n,p,k)$ the corresponding binomial CDF, so that\n",
    "\n",
    "$$\n",
    "F(n,p,k) = \\sum_{i=0}^k f(n,p,i).\n",
    "$$\n",
    "\n",
    "The probabilities of events of interest would be:\n",
    "\n",
    "$$\n",
    "P(A)=\\sum_{i=1}^6 f(6,p,i)=1-F(6,p,0),\n",
    "$$\n",
    "\n",
    "and\n",
    "\n",
    "$$\n",
    "P(B)=\\sum_{i=2}^{12} f(12,p,i)=1-F(12,p,1),\n",
    "$$\n",
    "\n",
    "and\n",
    "\n",
    "$$\n",
    "P(C)=\\sum_{i=3}^{18} f(18,p,i)=1-F(18,p,2).\n",
    "$$"
   ]
  },
  {
   "cell_type": "markdown",
   "metadata": {},
   "source": [
    "Calculating the probabilities implemented below."
   ]
  },
  {
   "cell_type": "code",
   "execution_count": 1,
   "metadata": {
    "collapsed": true
   },
   "outputs": [],
   "source": [
    "import numpy as np\n",
    "from scipy.stats import binom"
   ]
  },
  {
   "cell_type": "code",
   "execution_count": 2,
   "metadata": {
    "collapsed": false
   },
   "outputs": [
    {
     "name": "stdout",
     "output_type": "stream",
     "text": [
      "Probabilities p(A) =  0.665, p(B) =  0.619, p(C) =  0.597\n"
     ]
    }
   ],
   "source": [
    "pr = 1 / 6\n",
    "pA = 1 - binom.cdf(0, n=6, p=pr)\n",
    "pB = 1 - binom.cdf(1, n=12, p=pr)\n",
    "pC = 1 - binom.cdf(2, n=18, p=pr)\n",
    "print('Probabilities p(A) = {0:6.3f}, p(B) = {1:6.3f}, p(C) = {2:6.3f}'.format(pA, pB, pC))"
   ]
  },
  {
   "cell_type": "markdown",
   "metadata": {},
   "source": [
    "The answer is still correct, option (A) is the most likely among those mentioned."
   ]
  },
  {
   "cell_type": "markdown",
   "metadata": {},
   "source": [
    "If we slightly change the question:\n",
    "\n",
    "<ul>\n",
    "<li>(A') Exactly 1 six when 6 dice are rolled</li>\n",
    "<li>(B') Exactly 2 sixes when 12 dice are rolled</li>\n",
    "<li>(C') Exactly 3 sixes when 18 dice are rolled</li>\n",
    "</ul>\n",
    "\n",
    "the solution would look like this:\n",
    "\n",
    "$$\n",
    "P(A')=f(6,p,1)={6\\choose1} p^1(1-p)^5\n",
    "$$\n",
    "\n",
    "and\n",
    "\n",
    "$$\n",
    "P(B')=f(12,p,2)={12\\choose2} p^2(1-p)^{10}\n",
    "$$\n",
    "\n",
    "and\n",
    "\n",
    "$$\n",
    "P(C')=f(18,p,3)={18\\choose3} p^3(1-p)^{15}\n",
    "$$\n",
    "\n",
    "Actual computing is implemented below, option A' is still most likely."
   ]
  },
  {
   "cell_type": "code",
   "execution_count": 3,
   "metadata": {
    "collapsed": false
   },
   "outputs": [
    {
     "name": "stdout",
     "output_type": "stream",
     "text": [
      "Probabilities p(A') =  0.402, p(B') =  0.296, p(C') =  0.245\n"
     ]
    }
   ],
   "source": [
    "pA1 = binom.pmf(1, 6, pr)\n",
    "pB1 = binom.pmf(2, 12, pr)\n",
    "pC1 = binom.pmf(3, 18, pr)\n",
    "print('Probabilities p(A\\') = {0:6.3f}, p(B\\') = {1:6.3f}, p(C\\') = {2:6.3f}'.format(pA1, pB1, pC1))"
   ]
  },
  {
   "cell_type": "markdown",
   "metadata": {},
   "source": [
    "Note also that the solution presented at the <a href=\"https://www.analyticsvidhya.com/blog/2017/04/40-questions-on-probability-for-all-aspiring-data-scientists/\" target=\"_blank\">contest</a> actually solves somewhat slightly different problem: which of the following events is most likely:\n",
    "\n",
    "<ul>\n",
    "<li>(A'') 6 dice rolled, the only six appeared on the first dice</li>\n",
    "<li>(B'') 12 dice rolled, the two sixes appeared on the first and second dice</li>\n",
    "<li>(C'') 18 dice rolled, the three sixes appeared on the first, second and third dice</li>\n",
    "</ul>\n",
    "\n",
    "The solution to this problem is:\n",
    "\n",
    "$$\n",
    "P(A'')=p^1(1-p)^5\n",
    "$$\n",
    "\n",
    "and\n",
    "\n",
    "$$\n",
    "P(B'')=p^2(1-p)^{10}\n",
    "$$\n",
    "\n",
    "and\n",
    "\n",
    "$$\n",
    "P(C'')=p^3(1-p)^{15}\n",
    "$$\n",
    "\n",
    "The probabilities are calculated in the code below:"
   ]
  },
  {
   "cell_type": "code",
   "execution_count": 4,
   "metadata": {
    "collapsed": false
   },
   "outputs": [
    {
     "name": "stdout",
     "output_type": "stream",
     "text": [
      "Probabilities p(A'') =  0.06698, p(B'') =  0.00449, p(C'') =  0.00030\n"
     ]
    }
   ],
   "source": [
    "pA2 = pr * (1 - pr) ** 5\n",
    "pB2 = pr ** 2 * (1 - pr) ** 10\n",
    "pC2 = pr ** 3 * (1 - pr) ** 15\n",
    "print('Probabilities p(A\\'\\') = {0:8.5f}, p(B\\'\\') = {1:8.5f}, p(C\\'\\') = {2:8.5f}'.format(pA2, pB2, pC2))"
   ]
  },
  {
   "cell_type": "markdown",
   "metadata": {},
   "source": [
    "These probabilities coincide with those obtained in the contest solution description."
   ]
  },
  {
   "cell_type": "markdown",
   "metadata": {},
   "source": [
    "## Monte Carlo simulation"
   ]
  },
  {
   "cell_type": "markdown",
   "metadata": {},
   "source": [
    "### Events A, B, C"
   ]
  },
  {
   "cell_type": "code",
   "execution_count": 5,
   "metadata": {
    "collapsed": false
   },
   "outputs": [
    {
     "name": "stdout",
     "output_type": "stream",
     "text": [
      "Probabilities p(A) =  0.666, p(B) =  0.618, p(C) =  0.597\n",
      "Probabilities p(A') =  0.402, p(B') =  0.295, p(C') =  0.244\n",
      "Probabilities p(A'') =  0.06550, p(B'') =  0.00433, p(C'') =  0.00027\n"
     ]
    }
   ],
   "source": [
    "# prepare n_trials=100,000 Monte Carlo simulations of rolling dice\n",
    "n_trials = 100000\n",
    "dice = [1,2,3,4,5,6]\n",
    "xA = np.random.choice(dice, size=(n_trials,6))\n",
    "xB = np.random.choice(dice, size=(n_trials,12))\n",
    "xC = np.random.choice(dice, size=(n_trials,18))\n",
    "\n",
    "# variant 1, 'at least 1, 2, 3'\n",
    "indA = (xA == 6).sum(axis=1)\n",
    "indB = (xB == 6).sum(axis=1)\n",
    "indC = (xC == 6).sum(axis=1)\n",
    "pA = (indA >= 1).mean()\n",
    "pB = (indB >= 2).mean()\n",
    "pC = (indC >= 3).mean()\n",
    "print('Probabilities p(A) = {0:6.3f}, p(B) = {1:6.3f}, p(C) = {2:6.3f}'.format(pA, pB, pC))\n",
    "\n",
    "# variant 2, 'exactly 1, 2, 3'\n",
    "indA = (xA == 6).sum(axis=1)\n",
    "indB = (xB == 6).sum(axis=1)\n",
    "indC = (xC == 6).sum(axis=1)\n",
    "pA1 = (indA == 1).mean()\n",
    "pB1 = (indB == 2).mean()\n",
    "pC1 = (indC == 3).mean()\n",
    "print('Probabilities p(A\\') = {0:6.3f}, p(B\\') = {1:6.3f}, p(C\\') = {2:6.3f}'.format(pA1, pB1, pC1))\n",
    "\n",
    "# variant 3, 'only selected equal 6'\n",
    "indA = (xA[:, 0] == 6) & (~(xA[:, 1:] == 6)).all(axis=1)\n",
    "indB = (xB[:, :2] == 6).all(axis=1) & (~(xB[:, 2:] == 6)).all(axis=1)\n",
    "indC = (xC[:, :3] == 6).all(axis=1) & (~(xC[:, 3:] == 6)).all(axis=1)\n",
    "pA2 = indA.mean()\n",
    "pB2 = indB.mean()\n",
    "pC2 = indC.mean()\n",
    "print('Probabilities p(A\\'\\') = {0:8.5f}, p(B\\'\\') = {1:8.5f}, p(C\\'\\') = {2:8.5f}'.format(pA2, pB2, pC2))"
   ]
  },
  {
   "cell_type": "markdown",
   "metadata": {},
   "source": [
    "We see perfect concordance between theoretic and Monte Carlo results."
   ]
  }
 ],
 "metadata": {
  "kernelspec": {
   "display_name": "Python 3",
   "language": "python",
   "name": "python3"
  },
  "language_info": {
   "codemirror_mode": {
    "name": "ipython",
    "version": 3
   },
   "file_extension": ".py",
   "mimetype": "text/x-python",
   "name": "python",
   "nbconvert_exporter": "python",
   "pygments_lexer": "ipython3",
   "version": "3.6.0"
  }
 },
 "nbformat": 4,
 "nbformat_minor": 2
}
